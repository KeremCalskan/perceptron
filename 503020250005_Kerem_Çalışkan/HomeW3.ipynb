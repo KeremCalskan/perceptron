{
 "cells": [
  {
   "cell_type": "code",
   "execution_count": 1,
   "id": "a8bedeeb-d7fc-4af1-8ef9-561464759861",
   "metadata": {},
   "outputs": [],
   "source": [
    "import os\n",
    "import cv2\n",
    "import numpy as np\n",
    "from sklearn.utils import shuffle\n",
    "from sklearn.preprocessing import OneHotEncoder\n",
    "from sklearn.metrics import accuracy_score"
   ]
  },
  {
   "cell_type": "code",
   "execution_count": 2,
   "id": "4c93ef80-aa74-4893-b650-c15677d01c27",
   "metadata": {},
   "outputs": [],
   "source": [
    "def sigmoidp(x): \n",
    "    return 1 / (1 + np.exp(-x))\n",
    "\n",
    "# Swish aktivasyon fonksiyonu\n",
    "def Swish(x): \n",
    "    return x * sigmoidp(x)\n",
    "\n",
    "# Swish'in türevi (derivatif)\n",
    "def dSwish(x): \n",
    "    return Swish(x) + sigmoidp(x) * (1 - Swish(x))"
   ]
  },
  {
   "cell_type": "code",
   "execution_count": 3,
   "id": "1d35c68e-7e9c-4bef-b9fe-ea1164bf69ba",
   "metadata": {},
   "outputs": [],
   "source": [
    "# Özellik çıkarma fonksiyonu: Resimden anlamlı istatistiksel özellikler çıkartılır\n",
    "def extract_features(image_path):\n",
    "    image = cv2.imread(image_path)  # Resmi oku\n",
    "    image = cv2.resize(image, (128, 128))  # 128x128 boyutuna getirme\n",
    "    image = image.astype(np.float32) / 255.0  # Normalizasyon (0-1 arası)\n",
    "    \n",
    "    R, G, B = cv2.split(image)  # RGB kanallarını ayırma\n",
    "    \n",
    "    # Her kanal için istatistiksel özellikleri hesapla\n",
    "    def compute_features(channel):\n",
    "        mean = np.mean(channel)\n",
    "        entropy = -np.sum(channel * np.log2(channel + 1e-10))  # Entropi hesaplama\n",
    "        std = np.std(channel)\n",
    "        skewness = np.mean((channel - mean) ** 3) / (std ** 3 + 1e-10)\n",
    "        moment = np.var(channel)\n",
    "        fft_mean = np.mean(np.abs(np.fft.fft2(channel)))  # Fourier dönüşümü ortalaması\n",
    "        percentile_50 = np.percentile(channel, 50)  # 50. persentil (medyan)\n",
    "        median = np.median(channel)\n",
    "        return [mean, entropy, std, skewness, moment, fft_mean, percentile_50, median]\n",
    "    \n",
    "    # RGB her kanal için özellikleri çıkar\n",
    "    features = compute_features(R) + compute_features(G) + compute_features(B)\n",
    "    \n",
    "    # Renk indeksleri (Brightness, Saturation, Hue, vb.)\n",
    "    brightness = (np.mean(R**2 + G**2 + B**2)) / 3\n",
    "    saturation = np.mean((R - B) / (R + B + 1e-10))\n",
    "    hue = np.mean((2 * R - G - B) / (G - B + 1e-10))\n",
    "    coloration = np.mean((R - G) / (R + G + 1e-10))\n",
    "    redness = np.mean(R**2 / (B * G**3 + 1e-10))\n",
    "    \n",
    "    features += [brightness, saturation, hue, coloration, redness]  # Renk indekslerini özelliklere ekle\n",
    "    \n",
    "    return np.array(features)"
   ]
  },
  {
   "cell_type": "code",
   "execution_count": 4,
   "id": "32c82856-5cab-4f59-b3bf-1c4559c7d373",
   "metadata": {},
   "outputs": [
    {
     "name": "stdout",
     "output_type": "stream",
     "text": [
      "İlk 2 resmin özellikleri (Bias ile):\n",
      "Resim 1 Özellikler (Bias eklenmiş): [ 1.00000000e+00  9.40029940e-02  3.52542145e-01 -1.56793699e+00\n",
      "  1.24285952e-01  4.32301806e-01  1.00000000e+00  1.00000000e+00\n",
      "  1.00000000e+00  1.04119492e-01  3.94805541e-01 -1.39924210e+00\n",
      "  1.55871431e-01  3.92371935e-01  1.00000000e+00  1.00000000e+00\n",
      "  1.00000000e+00  7.73034432e-02  2.97950223e-01 -1.64550229e+00\n",
      "  8.87743387e-02  3.88544130e-01  1.00000000e+00  1.00000000e+00\n",
      "  1.00000000e+00 -4.17326197e-02 -7.07938868e-03  7.06733733e-02\n",
      "  3.56264718e-05  1.00000000e+00]\n",
      "Resim 2 Özellikler (Bias eklenmiş): [ 0.17539012  0.65730993  0.44702655  1.          0.19983275  0.33682162\n",
      "  0.09411765  0.09411765  0.23161734  0.74520216  0.45372092  0.654961\n",
      "  0.20586269  0.28919692  0.13725491  0.13725491  0.29646052  0.64827652\n",
      "  0.77943217  0.33587968  0.60751445  0.38967597  0.11764706  0.11764706\n",
      "  0.10492237 -0.72703172 -0.2359236  -1.17333097  0.00816407  1.        ]\n"
     ]
    }
   ],
   "source": [
    "# Eğitim verisi klasörü\n",
    "train_dir = \"C:/Users/User/Desktop/CaltechTinySplit/train\"\n",
    "\n",
    "# Tüm resimler için özellikleri çıkartma\n",
    "features_list = []\n",
    "\n",
    "# Klasörler (flamingo ve pizza) içinde gezinme\n",
    "for class_name in ['flamingo', 'pizza']:\n",
    "    class_dir = os.path.join(train_dir, class_name)\n",
    "    \n",
    "    for filename in os.listdir(class_dir):\n",
    "        image_path = os.path.join(class_dir, filename)\n",
    "        \n",
    "        # Özellikleri çıkartma\n",
    "        features = extract_features(image_path)\n",
    "        \n",
    "        # Bias (1) ekleme\n",
    "        features_with_bias = np.append(features, 1)\n",
    "        features_list.append(features_with_bias)\n",
    "\n",
    "# Özellikleri NumPy array'e dönüştürme\n",
    "features_array = np.array(features_list)\n",
    "\n",
    "# Normalizasyon işlemi: Bias dışındaki özellikler üzerinde normalizasyon\n",
    "features_array[:, :29] = features_array[:, :29] / np.max(features_array[:, :29], axis=0)\n",
    "\n",
    "# İlk 2 örneği yazdırma (özellikleri kontrol etme)\n",
    "print(\"İlk 2 resmin özellikleri (Bias ile):\")\n",
    "for i in range(2):\n",
    "    print(f\"Resim {i+1} Özellikler (Bias eklenmiş): {features_array[i]}\")"
   ]
  },
  {
   "cell_type": "code",
   "execution_count": 5,
   "id": "ca72fc03-9c18-4d81-a015-f59bcfd90a54",
   "metadata": {},
   "outputs": [
    {
     "name": "stdout",
     "output_type": "stream",
     "text": [
      "[0 0 0 0 0 0 0 0 0 0 0 0 0 0 0 0 0 0 0 0 0 0 0 0 0 0 0 0 0 0 0 0 0 0 0 0 0\n",
      " 0 0 0 0 0 0 0 0 0 0 0 0 0 0 0 0 1 1 1 1 1 1 1 1 1 1 1 1 1 1 1 1 1 1 1 1 1\n",
      " 1 1 1 1 1 1 1 1 1 1 1 1 1 1 1 1 1 1 1 1 1]\n",
      "95\n",
      "[0.00905531 0.00787314 0.00454727 0.00851433 0.0039884  0.00866045\n",
      " 0.00062891 0.00876417 0.0040447  0.00119238 0.00475311 0.00616852\n",
      " 0.00731731 0.00148721 0.007974   0.00758788 0.00257907 0.00686614\n",
      " 0.00242615 0.00710212 0.00803882 0.00252278 0.00922562 0.00680808\n",
      " 0.00225678 0.00247989 0.00901394 0.00122346 0.00264753 0.00977283]\n"
     ]
    }
   ],
   "source": [
    "# Eğitim verisi klasörü\n",
    "train_dir = \"C:/Users/User/Desktop/CaltechTinySplit/train\"\n",
    "\n",
    "# Flamingo ve pizza klasörlerinin yolları\n",
    "flamingo_dir = os.path.join(train_dir, 'flamingo')\n",
    "pizza_dir = os.path.join(train_dir, 'pizza')\n",
    "\n",
    "# Flamingo resimlerine 0, Pizza resimlerine 1 verecek targets array'ini oluşturma\n",
    "targets = []\n",
    "\n",
    "# Flamingo resimleri için 0 ekleyelim\n",
    "for filename in os.listdir(flamingo_dir):\n",
    "    targets.append(0)\n",
    "\n",
    "# Pizza resimleri için 1 ekleyelim\n",
    "for filename in os.listdir(pizza_dir):\n",
    "    targets.append(1)\n",
    "\n",
    "# Targets array'ini NumPy array'e dönüştürme\n",
    "targets = np.array(targets)\n",
    "\n",
    "print(targets)\n",
    "print(len(targets))\n",
    "weights = np.random.rand(30)*0.01\n",
    "print(weights)"
   ]
  },
  {
   "cell_type": "code",
   "execution_count": 6,
   "id": "0e768c0b-56ee-4a22-984d-3f1400fae41b",
   "metadata": {},
   "outputs": [
    {
     "name": "stdout",
     "output_type": "stream",
     "text": [
      "[ 0.17539012  0.65730993  0.44702655  1.          0.19983275  0.33682162\n",
      "  0.09411765  0.09411765  0.23161734  0.74520216  0.45372092  0.654961\n",
      "  0.20586269  0.28919692  0.13725491  0.13725491  0.29646052  0.64827652\n",
      "  0.77943217  0.33587968  0.60751445  0.38967597  0.11764706  0.11764706\n",
      "  0.10492237 -0.72703172 -0.2359236  -1.17333097  0.00816407  1.        ]\n",
      "0.05591444441176718\n"
     ]
    }
   ],
   "source": [
    "inputs=features_array\n",
    "x = inputs[i]  # x1, x2 ve bias dahil\n",
    "print(x)\n",
    "sum_t = np.dot(x, weights)\n",
    "print(sum_t)"
   ]
  },
  {
   "cell_type": "code",
   "execution_count": 7,
   "id": "f87df870-f404-4dd1-bfb4-36c28bc2258b",
   "metadata": {},
   "outputs": [
    {
     "name": "stdout",
     "output_type": "stream",
     "text": [
      "(95, 30)\n",
      "(95,)\n"
     ]
    }
   ],
   "source": [
    "print(inputs.shape)  # features_array boyutunu kontrol et\n",
    "print(targets.shape)  # targets boyutunu kontrol et"
   ]
  },
  {
   "cell_type": "code",
   "execution_count": 8,
   "id": "85e0ab5d-a06a-47b2-8e96-ea36f28fb8c0",
   "metadata": {},
   "outputs": [
    {
     "name": "stdout",
     "output_type": "stream",
     "text": [
      "Epoch 1000/1000, Weights: [-0.01241926  0.00778736  0.03588066  0.04330931  0.08486182  0.08343265\n",
      " -0.01683208 -0.00869682  0.00524718 -0.04145504  0.02650831  0.03315684\n",
      "  0.06474684  0.07947641  0.01574674  0.01536062  0.06759059 -0.04297931\n",
      " -0.0776451  -0.11775426 -0.06551559  0.05354768  0.12593837  0.12352083\n",
      "  0.01639217 -0.35472362  0.05796647 -0.04556282  0.00145413 -0.05323397]\n"
     ]
    }
   ],
   "source": [
    "learning_rate = 0.0001  # Öğrenme oranı\n",
    "epochs = 1000  # Eğitim için epoch sayısı\n",
    "inputs = features_array  # Girdi özellikleri\n",
    "\n",
    "# Eğitim verisini karıştırma\n",
    "inputs, targets = shuffle(inputs, targets, random_state=0)\n",
    "\n",
    "# Perceptron algoritması ile eğitim\n",
    "for epoch in range(epochs):\n",
    "    inputs, targets = shuffle(inputs, targets)  # Veriyi her epoch başında karıştır\n",
    "    \n",
    "    # Her örnek için perceptron öğrenme kuralını uygulama\n",
    "    for i in range(inputs.shape[0]):\n",
    "        x = inputs[i]  # Girdi vektörü\n",
    "        target = targets[i]  # Hedef çıktı\n",
    "        \n",
    "        # Swish aktivasyon fonksiyonu ile çıktıyı hesapla\n",
    "        y = np.dot(x, weights)\n",
    "        error = target - y  # Lineer kombinasyon (w*x)\n",
    "        Sw = dSwish(y)  # Swish'in türevini al\n",
    "        weights += learning_rate * error * Sw * x  # Ağırlık güncelleme\n",
    "    \n",
    "    # İsteğe bağlı olarak her epoch'tan sonra hata ya da ağırlıkları yazdır\n",
    "    if (epoch + 1) % 1000 == 0:  # Her 1000 epoch'ta bir yazdır\n",
    "        print(f\"Epoch {epoch + 1}/{epochs}, Weights: {weights}\")"
   ]
  },
  {
   "cell_type": "code",
   "execution_count": 9,
   "id": "286c1834-d84e-4f87-9fff-b460c45fd1c3",
   "metadata": {},
   "outputs": [
    {
     "name": "stdout",
     "output_type": "stream",
     "text": [
      "İlk 2 resmin özellikleri (Bias ile):\n",
      "Resim 1 Özellikler (Bias eklenmiş): [ 1.00000000e+00  6.97794800e-01  5.45928347e-01 -1.31933216e+00\n",
      "  2.98037739e-01  4.83837741e-01  1.00000000e+00  1.00000000e+00\n",
      "  8.99880261e-01  7.09470693e-01  6.67483839e-01 -1.48747452e+00\n",
      "  4.45534680e-01  5.02585477e-01  9.84615386e-01  9.84615386e-01\n",
      "  8.37021170e-01  7.14088571e-01  5.08264114e-01 -2.09147768e+00\n",
      "  2.58332436e-01  4.69827187e-01  8.38427958e-01  8.38427958e-01\n",
      "  8.46141285e-01 -6.22105616e-01  3.74777031e-02  3.76557173e-01\n",
      "  2.03969464e-04  1.00000000e+00]\n",
      "Resim 2 Özellikler (Bias eklenmiş): [ 5.34258350e-01  9.42386492e-01  5.90138590e-01  7.89372149e-01\n",
      "  3.48263560e-01  4.94839545e-01  4.16666673e-01  4.16666673e-01\n",
      "  5.68800833e-01  9.93964756e-01  6.31672002e-01  7.95294948e-01\n",
      "  3.99009520e-01  4.95568576e-01  5.02564102e-01  5.02564102e-01\n",
      "  5.75214556e-01  9.14865851e-01  7.82528250e-01  6.62460046e-01\n",
      "  6.12350492e-01  5.20140227e-01  4.75982534e-01  4.75982534e-01\n",
      "  3.88631125e-01 -2.31410644e+00 -1.90214159e+00 -1.18186890e+00\n",
      "  7.56768159e-06  1.00000000e+00]\n"
     ]
    }
   ],
   "source": [
    "# Eğitim verisi klasörü\n",
    "train_dir = \"C:/Users/User/Desktop/CaltechTinySplit/test\"\n",
    "\n",
    "\n",
    "# Tüm resimler için özellikleri çıkartma\n",
    "features_list = []\n",
    "\n",
    "# Klasörler (flamingo ve pizza) içinde gezinme\n",
    "for class_name in ['flamingo', 'pizza']:\n",
    "    class_dir = os.path.join(train_dir, class_name)\n",
    "    \n",
    "    for filename in os.listdir(class_dir):\n",
    "        image_path = os.path.join(class_dir, filename)\n",
    "        \n",
    "        # Özellikleri çıkartma\n",
    "        features = extract_features(image_path)\n",
    "        \n",
    "        # Bias (1) ekleme\n",
    "        features_with_bias = np.append(features, 1)\n",
    "        features_list.append(features_with_bias)\n",
    "\n",
    "# Özellikleri NumPy array'e dönüştürme\n",
    "features_array = np.array(features_list)\n",
    "\n",
    "# Normalizasyon işlemi: Bias dışındaki özellikler üzerinde\n",
    "features_array[:, :29] = features_array[:, :29] / np.max(features_array[:, :29], axis=0)\n",
    "\n",
    "# İlk 2 örneği yazdırma\n",
    "print(\"İlk 2 resmin özellikleri (Bias ile):\")\n",
    "for i in range(2):\n",
    "    print(f\"Resim {i+1} Özellikler (Bias eklenmiş): {features_array[i]}\")\n"
   ]
  },
  {
   "cell_type": "code",
   "execution_count": 10,
   "id": "d091619f-e332-40f5-bf4f-064bf91a80ef",
   "metadata": {},
   "outputs": [
    {
     "name": "stdout",
     "output_type": "stream",
     "text": [
      "[0 0 0 0 0 0 0 0 1 1 1 1 1 1]\n",
      "14\n",
      "[-0.01241926  0.00778736  0.03588066  0.04330931  0.08486182  0.08343265\n",
      " -0.01683208 -0.00869682  0.00524718 -0.04145504  0.02650831  0.03315684\n",
      "  0.06474684  0.07947641  0.01574674  0.01536062  0.06759059 -0.04297931\n",
      " -0.0776451  -0.11775426 -0.06551559  0.05354768  0.12593837  0.12352083\n",
      "  0.01639217 -0.35472362  0.05796647 -0.04556282  0.00145413 -0.05323397]\n"
     ]
    }
   ],
   "source": [
    "train_dir = \"C:/Users/User/Desktop/CaltechTinySplit/test\"\n",
    "\n",
    "# Flamingo ve pizza klasörlerinin yolları\n",
    "flamingo_dir = os.path.join(train_dir, 'flamingo')\n",
    "pizza_dir = os.path.join(train_dir, 'pizza')\n",
    "\n",
    "# Flamingo resimlerine 0, Pizza resimlerine 1 verecek targets array'ini oluşturma\n",
    "targets = []\n",
    "\n",
    "# Flamingo resimleri için 0 ekleyelim\n",
    "for filename in os.listdir(flamingo_dir):\n",
    "    targets.append(0)\n",
    "\n",
    "# Pizza resimleri için 1 ekleyelim\n",
    "for filename in os.listdir(pizza_dir):\n",
    "    targets.append(1)\n",
    "\n",
    "# Targets array'ini NumPy array'e dönüştürme\n",
    "targets = np.array(targets)\n",
    "\n",
    "print(targets)\n",
    "print(len(targets))\n",
    "print(weights)"
   ]
  },
  {
   "cell_type": "code",
   "execution_count": 11,
   "id": "20048b58-0aa5-481e-b657-2cbe4a35df99",
   "metadata": {},
   "outputs": [
    {
     "name": "stdout",
     "output_type": "stream",
     "text": [
      "\n",
      "Testing:\n",
      " Target: 0, Prediction: 0, Raw Output: 0.4312\n",
      " Target: 0, Prediction: 1, Raw Output: 0.6281\n",
      " Target: 0, Prediction: 1, Raw Output: 0.9804\n",
      " Target: 0, Prediction: 0, Raw Output: 0.0927\n",
      " Target: 0, Prediction: 0, Raw Output: 0.2744\n",
      " Target: 0, Prediction: 1, Raw Output: 2.0863\n",
      " Target: 0, Prediction: 0, Raw Output: -0.1292\n",
      " Target: 0, Prediction: 0, Raw Output: 0.2781\n",
      " Target: 1, Prediction: 1, Raw Output: 2.0585\n",
      " Target: 1, Prediction: 1, Raw Output: 1.1817\n",
      " Target: 1, Prediction: 1, Raw Output: 1.0135\n",
      " Target: 1, Prediction: 1, Raw Output: 2.0568\n",
      " Target: 1, Prediction: 1, Raw Output: 1.0122\n",
      " Target: 1, Prediction: 1, Raw Output: 0.5426\n",
      "\n",
      "Accuracy: 78.57%\n"
     ]
    }
   ],
   "source": [
    "predictions = []\n",
    "inputs = features_array\n",
    "print(\"\\nTesting:\")\n",
    "for i in range(len(inputs)): \n",
    "    x = inputs[i]  # Girdi vektörü          \n",
    "    y = np.dot(x, weights)  # Ağırlıklar ile lineer kombinasyonu hesapla\n",
    "    prediction =  Swish(y)  # Swish fonksiyonuyla çıktı al\n",
    "    predicted_class = 1 if prediction > 0.5 else 0  # 0.5'ten büyükse 1, küçükse 0 tahmin et\n",
    "    predictions.append(predicted_class)  # Tahminleri sakla\n",
    "    \n",
    "    # Şekil kontrolü ve çıktıyı yazdırma\n",
    "    print(f\" Target: {targets[i]}, Prediction: {predicted_class}, Raw Output: {prediction:.4f}\")\n",
    "\n",
    "# Doğruluk hesaplama\n",
    "accuracy = accuracy_score(targets, predictions)\n",
    "print(f\"\\nAccuracy: {accuracy * 100:.2f}%\")"
   ]
  },
  {
   "cell_type": "code",
   "execution_count": null,
   "id": "91391d23-f2ce-41cf-9993-2c764a9578d4",
   "metadata": {},
   "outputs": [],
   "source": []
  }
 ],
 "metadata": {
  "kernelspec": {
   "display_name": "Python (gpu_env)",
   "language": "python",
   "name": "gpu_env"
  },
  "language_info": {
   "codemirror_mode": {
    "name": "ipython",
    "version": 3
   },
   "file_extension": ".py",
   "mimetype": "text/x-python",
   "name": "python",
   "nbconvert_exporter": "python",
   "pygments_lexer": "ipython3",
   "version": "3.12.4"
  }
 },
 "nbformat": 4,
 "nbformat_minor": 5
}
